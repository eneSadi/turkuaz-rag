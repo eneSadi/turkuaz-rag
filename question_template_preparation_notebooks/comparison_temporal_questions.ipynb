{
 "cells": [
  {
   "cell_type": "code",
   "id": "initial_id",
   "metadata": {
    "collapsed": true
   },
   "source": [
    "from datasets import load_from_disk\n",
    "\n",
    "dataset = load_from_disk(\"mlsum_train_dataset\")"
   ],
   "outputs": [],
   "execution_count": null
  },
  {
   "metadata": {},
   "cell_type": "code",
   "source": [
    "import pickle\n",
    "\n",
    "with open(\"mlsum_similar_news.pkl\", \"rb\") as f:\n",
    "    mlsum_similar_news = pickle.load(f)"
   ],
   "id": "f14d97614a4aace4",
   "outputs": [],
   "execution_count": null
  },
  {
   "metadata": {},
   "cell_type": "code",
   "source": [
    "from tqdm import tqdm\n",
    "\n",
    "max_length = 0\n",
    "min_length = 100000\n",
    "mean_length = 0\n",
    "length_list = []\n",
    "counter = 0\n",
    "\n",
    "for idx in tqdm(mlsum_similar_news):\n",
    "    news = mlsum_similar_news[idx]\n",
    "    similar_news_ids = news['similar_indices']\n",
    "    similar_news = [dataset[i] for i in similar_news_ids]\n",
    "    all_news = [news] + similar_news\n",
    "    for n in all_news:\n",
    "        text = n['text']\n",
    "        length = len(text.split())\n",
    "        length_list.append(length)\n",
    "        if length > max_length:\n",
    "            max_length = length\n",
    "        if length < min_length:\n",
    "            min_length = length\n",
    "        mean_length += length\n",
    "        counter += 1\n",
    "\n",
    "mean_length /= counter\n",
    "max_length, min_length, mean_length"
   ],
   "id": "fb18d7718c49942f",
   "outputs": [],
   "execution_count": null
  },
  {
   "metadata": {},
   "cell_type": "code",
   "source": [
    "import matplotlib.pyplot as plt\n",
    "\n",
    "# show hist plot of the lengths but max value in x axis is 20000\n",
    "plt.hist(length_list, bins=100, range=(0, 2000))\n",
    "plt.show()"
   ],
   "id": "e5a97a357d0becf6",
   "outputs": [],
   "execution_count": null
  },
  {
   "metadata": {},
   "cell_type": "code",
   "source": [
    "def get_text_with_max_500_words(text):\n",
    "    words = text.split()\n",
    "    if len(words) > 500:\n",
    "        return \" \".join(words[:500])\n",
    "    return text"
   ],
   "id": "4bc700871fc2424d",
   "outputs": [],
   "execution_count": null
  },
  {
   "metadata": {},
   "cell_type": "code",
   "source": [
    "from tqdm import tqdm\n",
    "\n",
    "comparison_and_temporal_question_templates = []\n",
    "counter = 0\n",
    "checkpoint = 0\n",
    "\n",
    "for idx in tqdm(mlsum_similar_news, total=len(mlsum_similar_news)):\n",
    "    if counter < checkpoint:\n",
    "        counter += 1\n",
    "        continue\n",
    "    news = mlsum_similar_news[idx]\n",
    "    similar_news_ids = news['similar_indices']\n",
    "    similar_news = [dataset[i] for i in similar_news_ids]\n",
    "\n",
    "    similar_sample = None\n",
    "    for similar in similar_news:\n",
    "        if news['date'] != similar['date']:\n",
    "            similar_sample = similar\n",
    "            break\n",
    "\n",
    "    if similar_sample is None:\n",
    "        print(f\"Similar sample is not found for {news['index']}\")\n",
    "        continue\n",
    "\n",
    "    news_text = get_text_with_max_500_words(news['text'])\n",
    "    similar_sample_text = get_text_with_max_500_words(similar_sample['text'])\n",
    "\n",
    "    comparison_question_template = f\"\"\"\n",
    "The following are the metadata of 2 news articles and summaries of articles. The articles are related to a similar topic.\n",
    "Your task is to generate a **Temporal Question** based on these articles.\n",
    "\n",
    "A **Temporal Question** involves a **time-related comparison** between the events, entities, or facts presented in the two articles.\n",
    "The question should **highlight chronological differences**, event sequences, durations, or trends over time, ensuring that answering it requires information from both articles.\n",
    "\n",
    "### **Requirements for the question:**\n",
    "1. **Your question should be like one of these categories (choose one randomly, do not always generate the same type):**\n",
    "   - **Duration Comparison:** *\"Which event lasted longer?\"*\n",
    "   - **Chronological Order:** *\"Which event happened earlier or later?\"*\n",
    "   - **Time Gap Analysis:** *\"How much time passed between these events?\"*\n",
    "   - **Event Evolution Over Time:** *\"How did the situation change between these two periods?\"*\n",
    "   - **Frequency Comparison:** *\"Which event happened more frequently?\"*\n",
    "   - **Impact of Time:** *\"How did external factors change between the two events?\"*\n",
    "2. **You must rotate between these categories. Do not generate the same type of question repeatedly.**\n",
    "3. **Avoid using explicit dates (years, months, days) in the question.**\n",
    "   - ❌ *Yanlış:* “2010 yılında gerçekleşen X olayı ile 2012’de yaşanan Y olayı...?”\n",
    "   - ✅ *Doğru:* “X olayının yaşandığı dönem ile Y olayının yaşandığı süreç...?”\n",
    "   - **Use event descriptions instead of numerical dates.**\n",
    "4. **Avoid vague references** such as:\n",
    "   - ❌ *\"Her iki haberde de geçen...\"*\n",
    "   - ❌ *\"İki haberde de bahsedilen...\"*\n",
    "   - ❌ *\"Bu iki makalede...\"*\n",
    "5. **Instead, explicitly refer to the events, topics, or entities from each article.**\n",
    "   ✅ **Correct format examples:**\n",
    "   - *\"X olayının yaşandığı süreç, Y olayına kıyasla daha uzun mu sürmüştür?\"* (**Duration Comparison**)\n",
    "   - *\"İlk olarak X olayının yaşandığı süreç mi başlamış, yoksa Y olayı mı daha erken gerçekleşmiştir?\"* (**Chronological Order**)\n",
    "   - *\"X olayının yaşandığı dönem ile Y olayının gerçekleştiği dönem arasında ne kadar zaman farkı bulunmaktadır?\"* (**Time Gap Analysis**)\n",
    "   - *\"X olayının yaşandığı süreçte alınan önlemler, Y olayının yaşandığı süreçte nasıl değişmiştir?\"* (**Event Evolution Over Time**)\n",
    "   - *\"X olayının yaşandığı süreçte benzer olaylar ne kadar sıklıkla gerçekleşmiştir? Y olayına kıyasla daha mı sık meydana gelmiştir?\"* (**Frequency Comparison**)\n",
    "   - *\"X olayının yaşandığı dönem ile Y olayının yaşandığı dönem arasında hangi faktörler değişmiş ve olayların gelişimini nasıl etkilemiştir?\"* (**Impact of Time**)\n",
    "6. **Your question must be written in Turkish.**\n",
    "7. Be as creative as possible while generating the question, you don't have to stick to the examples above.\n",
    "\n",
    "News 1:\n",
    "Title: {news['title']}\n",
    "Date: {news['date']}\n",
    "Summary: {news['summary']}\n",
    "Text: {news['text']}\n",
    "\n",
    "News 2:\n",
    "Title: {similar_sample['title']}\n",
    "Date: {similar_sample['date']}\n",
    "Summary: {similar_sample['summary']}\n",
    "Text: {similar_sample['text']}\n",
    "\n",
    "**Format your output as follows:**\n",
    "Question:\n",
    "\"\"\"\n",
    "\n",
    "    comparison_and_temporal_question_templates.append({\"prompt\": comparison_question_template, \"news_1_id\": idx, \"news_2_id\": similar_sample['index']})\n",
    "    counter += 1"
   ],
   "id": "b46d90b860e84378",
   "outputs": [],
   "execution_count": null
  },
  {
   "metadata": {},
   "cell_type": "code",
   "source": [
    "import json\n",
    "\n",
    "with open(\"temporal_question_templates.json\", \"w\") as f:\n",
    "    json.dump(comparison_and_temporal_question_templates, f)"
   ],
   "id": "e6d4191d6733116b",
   "outputs": [],
   "execution_count": null
  },
  {
   "metadata": {},
   "cell_type": "code",
   "source": "",
   "id": "41be20c19964d874",
   "outputs": [],
   "execution_count": null
  }
 ],
 "metadata": {
  "kernelspec": {
   "display_name": "Python 3",
   "language": "python",
   "name": "python3"
  },
  "language_info": {
   "codemirror_mode": {
    "name": "ipython",
    "version": 2
   },
   "file_extension": ".py",
   "mimetype": "text/x-python",
   "name": "python",
   "nbconvert_exporter": "python",
   "pygments_lexer": "ipython2",
   "version": "2.7.6"
  }
 },
 "nbformat": 4,
 "nbformat_minor": 5
}
